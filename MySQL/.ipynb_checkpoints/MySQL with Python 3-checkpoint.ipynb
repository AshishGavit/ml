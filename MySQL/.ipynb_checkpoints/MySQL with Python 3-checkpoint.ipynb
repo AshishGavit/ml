{
 "cells": [
  {
   "cell_type": "code",
   "execution_count": 1,
   "id": "3103aca8",
   "metadata": {},
   "outputs": [],
   "source": [
    "import mysql.connector"
   ]
  },
  {
   "cell_type": "code",
   "execution_count": 2,
   "id": "d4d71190",
   "metadata": {},
   "outputs": [],
   "source": [
    "mydb = mysql.connector.connect(host='localhost',user='ashish',password='ashishgavit@007')\n",
    "mycursor = mydb.cursor()"
   ]
  },
  {
   "cell_type": "markdown",
   "id": "24b853f9",
   "metadata": {},
   "source": [
    "# Create Database"
   ]
  },
  {
   "cell_type": "code",
   "execution_count": 3,
   "id": "56f574eb",
   "metadata": {},
   "outputs": [
    {
     "name": "stdout",
     "output_type": "stream",
     "text": [
      "('information_schema',)\n",
      "('mydatabase',)\n",
      "('mysql',)\n",
      "('performance_schema',)\n",
      "('sakila',)\n",
      "('sys',)\n",
      "('world',)\n"
     ]
    }
   ],
   "source": [
    "mycursor.execute('drop database if exists mydatabase') \n",
    "try:\n",
    "    mycursor.execute('create database mydatabase')\n",
    "except mysql.connector.Error as err :\n",
    "    print(err)\n",
    "    print(\"Error Code:\", err.errno)\n",
    "    print(\"SQLSTATE\", err.sqlstate)\n",
    "    print(\"Message\", err.msg)\n",
    "mycursor.execute('show databases')\n",
    "for x in mycursor:\n",
    "    print(x)"
   ]
  },
  {
   "cell_type": "markdown",
   "id": "4dbf48eb",
   "metadata": {},
   "source": [
    "# Create Table"
   ]
  },
  {
   "cell_type": "code",
   "execution_count": 4,
   "id": "a1e5ce40",
   "metadata": {},
   "outputs": [
    {
     "name": "stdout",
     "output_type": "stream",
     "text": [
      "('customer',)\n"
     ]
    }
   ],
   "source": [
    "mydb = mysql.connector.connect(host='localhost', user='ashish', password='ashishgavit@007', database='mydatabase')\n",
    "mycursor = mydb.cursor()\n",
    "try:\n",
    "    mycursor.execute('create table customer (name varchar(255), address varchar(233))')\n",
    "except mysql.connector.Error as err1:\n",
    "    print(err1)\n",
    "mycursor.execute('show tables')\n",
    "for x in mycursor:\n",
    "    print(x)"
   ]
  },
  {
   "cell_type": "markdown",
   "id": "2857f5d3",
   "metadata": {},
   "source": [
    "# Add new column in customer table"
   ]
  },
  {
   "cell_type": "code",
   "execution_count": 5,
   "id": "caa47210",
   "metadata": {},
   "outputs": [],
   "source": [
    "try:\n",
    "    mycursor.execute('alter table customer add column id int auto_increment primary key')\n",
    "except mysql.connector.Error as err:\n",
    "    print(err)"
   ]
  },
  {
   "cell_type": "markdown",
   "id": "3dd0d268",
   "metadata": {},
   "source": [
    "# Insert data into the 'customer' table"
   ]
  },
  {
   "cell_type": "code",
   "execution_count": 6,
   "id": "4b3ad814",
   "metadata": {},
   "outputs": [
    {
     "name": "stdout",
     "output_type": "stream",
     "text": [
      "1 record inserted\n"
     ]
    }
   ],
   "source": [
    "sql = 'insert into customer(name, address) values(%s, %s)'\n",
    "val = ('Ashish','Surat, Gujarat')\n",
    "mycursor.execute(sql, val)\n",
    "mydb.commit()\n",
    "print(mycursor.rowcount, 'record inserted')"
   ]
  },
  {
   "cell_type": "markdown",
   "id": "e98f3cdf",
   "metadata": {},
   "source": [
    "# Insert multiple rows into the 'customer' table"
   ]
  },
  {
   "cell_type": "code",
   "execution_count": 7,
   "id": "c20b5d4e",
   "metadata": {},
   "outputs": [
    {
     "name": "stdout",
     "output_type": "stream",
     "text": [
      "13 row was inserted.\n"
     ]
    }
   ],
   "source": [
    "sql = 'insert into customer(name, address) values(%s, %s)'\n",
    "val = [\n",
    "    ('Peter', 'Lowstreet 4'),\n",
    "    ('Amy', 'Apple st 652'),\n",
    "    ('Hannah', 'Mountain 21'),\n",
    "    ('Michael', 'Valley 345'),\n",
    "    ('Sandy', 'Ocean blvd 2'),\n",
    "    ('Betty', 'Green Grass 1'),\n",
    "    ('Richard', 'Sky st 331'),\n",
    "    ('Susan', 'One way 98'),\n",
    "    ('Vicky', 'Yellow Garden 2'),\n",
    "    ('Ben', 'Park Lane 38'),\n",
    "    ('William', 'Central st 954'),\n",
    "    ('Chuck', 'Main Road 989'),\n",
    "    ('Viola', 'Sideway 1633')\n",
    "]\n",
    "mycursor.executemany(sql, val)\n",
    "mydb.commit()\n",
    "print(mycursor.rowcount, 'row was inserted.')"
   ]
  },
  {
   "cell_type": "markdown",
   "id": "6e159227",
   "metadata": {},
   "source": [
    "# Select data from customer table"
   ]
  },
  {
   "cell_type": "code",
   "execution_count": 8,
   "id": "268781b5",
   "metadata": {},
   "outputs": [
    {
     "name": "stdout",
     "output_type": "stream",
     "text": [
      "('Ashish', 'Surat, Gujarat', 1)\n",
      "('Peter', 'Lowstreet 4', 2)\n",
      "('Amy', 'Apple st 652', 3)\n",
      "('Hannah', 'Mountain 21', 4)\n",
      "('Michael', 'Valley 345', 5)\n",
      "('Sandy', 'Ocean blvd 2', 6)\n",
      "('Betty', 'Green Grass 1', 7)\n",
      "('Richard', 'Sky st 331', 8)\n",
      "('Susan', 'One way 98', 9)\n",
      "('Vicky', 'Yellow Garden 2', 10)\n",
      "('Ben', 'Park Lane 38', 11)\n",
      "('William', 'Central st 954', 12)\n",
      "('Chuck', 'Main Road 989', 13)\n",
      "('Viola', 'Sideway 1633', 14)\n"
     ]
    }
   ],
   "source": [
    "mycursor.execute('select * from customer')\n",
    "myresult = mycursor.fetchall()\n",
    "for x in myresult:\n",
    "    print(x)"
   ]
  },
  {
   "cell_type": "markdown",
   "id": "cdacc218",
   "metadata": {},
   "source": [
    "# select columns from customer table"
   ]
  },
  {
   "cell_type": "code",
   "execution_count": 9,
   "id": "000c8cef",
   "metadata": {},
   "outputs": [
    {
     "name": "stdout",
     "output_type": "stream",
     "text": [
      "('Ashish', 'Surat, Gujarat')\n",
      "('Peter', 'Lowstreet 4')\n",
      "('Amy', 'Apple st 652')\n",
      "('Hannah', 'Mountain 21')\n",
      "('Michael', 'Valley 345')\n",
      "('Sandy', 'Ocean blvd 2')\n",
      "('Betty', 'Green Grass 1')\n",
      "('Richard', 'Sky st 331')\n",
      "('Susan', 'One way 98')\n",
      "('Vicky', 'Yellow Garden 2')\n",
      "('Ben', 'Park Lane 38')\n",
      "('William', 'Central st 954')\n",
      "('Chuck', 'Main Road 989')\n",
      "('Viola', 'Sideway 1633')\n"
     ]
    }
   ],
   "source": [
    "mycursor.execute('select name, address from customer')\n",
    "myresult = mycursor.fetchall()\n",
    "for x in myresult:\n",
    "    print(x)"
   ]
  },
  {
   "cell_type": "markdown",
   "id": "2c067378",
   "metadata": {},
   "source": [
    "# Fetch first row from customer table"
   ]
  },
  {
   "cell_type": "code",
   "execution_count": 10,
   "id": "123ef0bb",
   "metadata": {},
   "outputs": [
    {
     "name": "stdout",
     "output_type": "stream",
     "text": [
      "('Ashish', 'Surat, Gujarat', 1)\n"
     ]
    }
   ],
   "source": [
    "mycursor.execute('select * from customer')\n",
    "myresult = mycursor.fetchone()\n",
    "print(myresult)"
   ]
  },
  {
   "cell_type": "markdown",
   "id": "e08cb81b",
   "metadata": {},
   "source": [
    "# select row with filter"
   ]
  },
  {
   "cell_type": "code",
   "execution_count": 11,
   "id": "a7717356",
   "metadata": {},
   "outputs": [
    {
     "name": "stdout",
     "output_type": "stream",
     "text": [
      "('Ashish', 'Surat, Gujarat', 1)\n"
     ]
    }
   ],
   "source": [
    "mydb = mysql.connector.connect(host='localhost', user='ashish', password='ashishgavit@007', database='mydatabase')\n",
    "mycursor = mydb.cursor()\n",
    "mycursor.execute(\"select * from customer where address='Surat, Gujarat'\")\n",
    "myresult = mycursor.fetchall()\n",
    "for x in myresult:\n",
    "    print(x)"
   ]
  },
  {
   "cell_type": "markdown",
   "id": "a7b8ebdd",
   "metadata": {},
   "source": [
    "# Select row with Wildcard Character"
   ]
  },
  {
   "cell_type": "code",
   "execution_count": 12,
   "id": "56200746",
   "metadata": {},
   "outputs": [
    {
     "name": "stdout",
     "output_type": "stream",
     "text": [
      "('Ashish', 'Surat, Gujarat', 1)\n",
      "('Amy', 'Apple st 652', 3)\n",
      "('Hannah', 'Mountain 21', 4)\n",
      "('Michael', 'Valley 345', 5)\n",
      "('Sandy', 'Ocean blvd 2', 6)\n",
      "('Richard', 'Sky st 331', 8)\n",
      "('Susan', 'One way 98', 9)\n",
      "('William', 'Central st 954', 12)\n",
      "('Viola', 'Sideway 1633', 14)\n"
     ]
    }
   ],
   "source": [
    "mycursor.execute('select * from customer where name like \"%a%\"')\n",
    "myresult = mycursor.fetchall()\n",
    "for x in myresult:\n",
    "    print(x)"
   ]
  },
  {
   "cell_type": "markdown",
   "id": "dd6689af",
   "metadata": {},
   "source": [
    "# Prevent SQL Injection"
   ]
  },
  {
   "cell_type": "code",
   "execution_count": 13,
   "id": "718a7ab5",
   "metadata": {},
   "outputs": [
    {
     "name": "stdout",
     "output_type": "stream",
     "text": [
      "('Ashish', 'Surat, Gujarat', 1)\n"
     ]
    }
   ],
   "source": [
    "sql = 'select * from customer where address = %s'\n",
    "adr = ('Surat, Gujarat',)\n",
    "mycursor.execute(sql, adr)\n",
    "myresult = mycursor.fetchall()\n",
    "for x in myresult:\n",
    "    print(x)"
   ]
  },
  {
   "cell_type": "markdown",
   "id": "5183d0a4",
   "metadata": {},
   "source": [
    "# Sort the result"
   ]
  },
  {
   "cell_type": "code",
   "execution_count": 14,
   "id": "d1b4fbb7",
   "metadata": {},
   "outputs": [
    {
     "name": "stdout",
     "output_type": "stream",
     "text": [
      "('Amy', 'Apple st 652')\n",
      "('Ashish', 'Surat, Gujarat')\n",
      "('Ben', 'Park Lane 38')\n",
      "('Betty', 'Green Grass 1')\n",
      "('Chuck', 'Main Road 989')\n",
      "('Hannah', 'Mountain 21')\n",
      "('Michael', 'Valley 345')\n",
      "('Peter', 'Lowstreet 4')\n",
      "('Richard', 'Sky st 331')\n",
      "('Sandy', 'Ocean blvd 2')\n",
      "('Susan', 'One way 98')\n",
      "('Vicky', 'Yellow Garden 2')\n",
      "('Viola', 'Sideway 1633')\n",
      "('William', 'Central st 954')\n"
     ]
    }
   ],
   "source": [
    "mydb = mysql.connector.connect(host='localhost', user='ashish', password='ashishgavit@007', database='mydatabase')\n",
    "mycursor = mydb.cursor()\n",
    "sql = 'select name, address from customer order by name' # order by has 'asc' ascending as default\n",
    "mycursor.execute(sql)\n",
    "myresult = mycursor.fetchall()\n",
    "for x in myresult:\n",
    "    print(x)"
   ]
  },
  {
   "cell_type": "markdown",
   "id": "d57b47fa",
   "metadata": {},
   "source": [
    "# Order by DESC"
   ]
  },
  {
   "cell_type": "code",
   "execution_count": 15,
   "id": "c4cd8eaf",
   "metadata": {},
   "outputs": [
    {
     "name": "stdout",
     "output_type": "stream",
     "text": [
      "('William', 'Central st 954', 12)\n",
      "('Viola', 'Sideway 1633', 14)\n",
      "('Vicky', 'Yellow Garden 2', 10)\n",
      "('Susan', 'One way 98', 9)\n",
      "('Sandy', 'Ocean blvd 2', 6)\n",
      "('Richard', 'Sky st 331', 8)\n",
      "('Peter', 'Lowstreet 4', 2)\n",
      "('Michael', 'Valley 345', 5)\n",
      "('Hannah', 'Mountain 21', 4)\n",
      "('Chuck', 'Main Road 989', 13)\n",
      "('Betty', 'Green Grass 1', 7)\n",
      "('Ben', 'Park Lane 38', 11)\n",
      "('Ashish', 'Surat, Gujarat', 1)\n",
      "('Amy', 'Apple st 652', 3)\n"
     ]
    }
   ],
   "source": [
    "mycursor.execute('select * from customer order by name desc')\n",
    "myresult = mycursor.fetchall()\n",
    "for x in myresult:\n",
    "    print(x)"
   ]
  },
  {
   "cell_type": "markdown",
   "id": "496f2120",
   "metadata": {},
   "source": [
    "# Delete records"
   ]
  },
  {
   "cell_type": "code",
   "execution_count": 16,
   "id": "f4b70a74",
   "metadata": {},
   "outputs": [
    {
     "name": "stdout",
     "output_type": "stream",
     "text": [
      "1 record(s) deleted\n"
     ]
    }
   ],
   "source": [
    "sql = 'delete from customer where address=\"Surat, Gujarat\"'\n",
    "mycursor.execute(sql)\n",
    "mydb.commit()\n",
    "print(mycursor.rowcount, \"record(s) deleted\")"
   ]
  },
  {
   "cell_type": "markdown",
   "id": "da7bf592",
   "metadata": {},
   "source": [
    "# Prevent SQL Injection when deleting records"
   ]
  },
  {
   "cell_type": "code",
   "execution_count": 17,
   "id": "a73e6dab",
   "metadata": {},
   "outputs": [
    {
     "name": "stdout",
     "output_type": "stream",
     "text": [
      "1 record(s) deleted\n"
     ]
    }
   ],
   "source": [
    "sql = 'delete from customer where address = %s'\n",
    "adr = ('Yellow Garden 2',)\n",
    "mycursor.execute(sql, adr)\n",
    "print(mycursor.rowcount, 'record(s) deleted')"
   ]
  },
  {
   "cell_type": "markdown",
   "id": "1de67571",
   "metadata": {},
   "source": [
    "# View record function"
   ]
  },
  {
   "cell_type": "code",
   "execution_count": 18,
   "id": "cbe7dbfe",
   "metadata": {},
   "outputs": [],
   "source": [
    "from pprint import pprint\n",
    "def connection():\n",
    "    mydb = mysql.connector.connect(host='localhost', user='ashish', password='ashishgavit@007', database='mydatabase')\n",
    "    return mydb\n",
    "\n",
    "def viewRecord(sql, val=''):  \n",
    "    mydb = connection()\n",
    "    mycursor = mydb.cursor()\n",
    "    if val == '':\n",
    "        mycursor.execute(sql)\n",
    "    else:\n",
    "        mycursor.execute(sql, val)\n",
    "    myresult = mycursor.fetchall()\n",
    "    for x in myresult:\n",
    "        pprint(x)"
   ]
  },
  {
   "cell_type": "markdown",
   "id": "aedf0d82",
   "metadata": {},
   "source": [
    "# Update table"
   ]
  },
  {
   "cell_type": "code",
   "execution_count": 19,
   "id": "aca6440b",
   "metadata": {},
   "outputs": [
    {
     "name": "stdout",
     "output_type": "stream",
     "text": [
      "1 record(s) inserted\n"
     ]
    }
   ],
   "source": [
    "sql = 'insert into customer (name, address) values(%s, %s)'\n",
    "val = ('Ashish', 'Surat, Gujarat')\n",
    "mycursor.execute(sql, val)\n",
    "mydb.commit()\n",
    "print(mycursor.rowcount, 'record(s) inserted')"
   ]
  },
  {
   "cell_type": "code",
   "execution_count": 20,
   "id": "47156679",
   "metadata": {},
   "outputs": [
    {
     "name": "stdout",
     "output_type": "stream",
     "text": [
      "1 record(s) updated\n"
     ]
    }
   ],
   "source": [
    "sql = 'update customer set address = \"Vapi\" where address = \"Surat, Gujarat\"'\n",
    "mycursor.execute(sql)\n",
    "mydb.commit()\n",
    "print(mycursor.rowcount, 'record(s) updated')"
   ]
  },
  {
   "cell_type": "code",
   "execution_count": 21,
   "id": "e1cb6c22",
   "metadata": {},
   "outputs": [
    {
     "name": "stdout",
     "output_type": "stream",
     "text": [
      "('Peter', 'Lowstreet 4', 2)\n",
      "('Amy', 'Apple st 652', 3)\n",
      "('Hannah', 'Mountain 21', 4)\n",
      "('Michael', 'Valley 345', 5)\n",
      "('Sandy', 'Ocean blvd 2', 6)\n",
      "('Betty', 'Green Grass 1', 7)\n",
      "('Richard', 'Sky st 331', 8)\n",
      "('Susan', 'One way 98', 9)\n",
      "('Ben', 'Park Lane 38', 11)\n",
      "('William', 'Central st 954', 12)\n",
      "('Chuck', 'Main Road 989', 13)\n",
      "('Viola', 'Sideway 1633', 14)\n",
      "('Ashish', 'Vapi', 15)\n"
     ]
    }
   ],
   "source": [
    "sql, val = 'select * from customer', ''\n",
    "viewRecord(sql)"
   ]
  },
  {
   "cell_type": "markdown",
   "id": "0c4440dd",
   "metadata": {},
   "source": [
    "# Prevent SQL Injection when updating table"
   ]
  },
  {
   "cell_type": "code",
   "execution_count": 22,
   "id": "e9a392e4",
   "metadata": {},
   "outputs": [
    {
     "name": "stdout",
     "output_type": "stream",
     "text": [
      "1 record(s) updated\n"
     ]
    }
   ],
   "source": [
    "sql = 'update customer set address=%s where address=%s'\n",
    "adr = ('Surat, Gujarat', 'Vapi')\n",
    "mycursor.execute(sql, adr)\n",
    "mydb.commit()\n",
    "print(mycursor.rowcount, 'record(s) updated')"
   ]
  },
  {
   "cell_type": "code",
   "execution_count": 23,
   "id": "0e3d7934",
   "metadata": {},
   "outputs": [
    {
     "name": "stdout",
     "output_type": "stream",
     "text": [
      "('Peter', 'Lowstreet 4', 2)\n",
      "('Amy', 'Apple st 652', 3)\n",
      "('Hannah', 'Mountain 21', 4)\n",
      "('Michael', 'Valley 345', 5)\n",
      "('Sandy', 'Ocean blvd 2', 6)\n",
      "('Betty', 'Green Grass 1', 7)\n",
      "('Richard', 'Sky st 331', 8)\n",
      "('Susan', 'One way 98', 9)\n",
      "('Ben', 'Park Lane 38', 11)\n",
      "('William', 'Central st 954', 12)\n",
      "('Chuck', 'Main Road 989', 13)\n",
      "('Viola', 'Sideway 1633', 14)\n",
      "('Ashish', 'Surat, Gujarat', 15)\n"
     ]
    }
   ],
   "source": [
    "sql = 'select * from customer'\n",
    "viewRecord(sql)"
   ]
  },
  {
   "cell_type": "markdown",
   "id": "f84f5f8b",
   "metadata": {},
   "source": [
    "# Limit the Result"
   ]
  },
  {
   "cell_type": "code",
   "execution_count": 24,
   "id": "ccd9bb37",
   "metadata": {},
   "outputs": [
    {
     "name": "stdout",
     "output_type": "stream",
     "text": [
      "('Peter', 'Lowstreet 4', 2)\n",
      "('Amy', 'Apple st 652', 3)\n",
      "('Hannah', 'Mountain 21', 4)\n",
      "('Michael', 'Valley 345', 5)\n",
      "('Sandy', 'Ocean blvd 2', 6)\n"
     ]
    }
   ],
   "source": [
    "mydb = connection()\n",
    "mycursor = mydb.cursor()\n",
    "mycursor.execute('select * from customer limit 5')\n",
    "myresult = mycursor.fetchall()\n",
    "for x in myresult:\n",
    "    print(x)"
   ]
  },
  {
   "cell_type": "markdown",
   "id": "17db3234",
   "metadata": {},
   "source": [
    "# Start From Another Position "
   ]
  },
  {
   "cell_type": "code",
   "execution_count": 25,
   "id": "7948e668",
   "metadata": {},
   "outputs": [
    {
     "name": "stdout",
     "output_type": "stream",
     "text": [
      "('Hannah', 'Mountain 21', 4)\n",
      "('Michael', 'Valley 345', 5)\n",
      "('Sandy', 'Ocean blvd 2', 6)\n",
      "('Betty', 'Green Grass 1', 7)\n",
      "('Richard', 'Sky st 331', 8)\n"
     ]
    }
   ],
   "source": [
    "mydb = connection()\n",
    "mycursor = mydb.cursor()\n",
    "mycursor.execute('select * from customer limit 5 offset 2')\n",
    "myresult = mycursor.fetchall()\n",
    "for x in myresult:\n",
    "    print(x)"
   ]
  },
  {
   "cell_type": "markdown",
   "id": "7b8f5a10",
   "metadata": {},
   "source": [
    "# Join Two or More Tables"
   ]
  },
  {
   "cell_type": "code",
   "execution_count": 26,
   "id": "2d3e7c60",
   "metadata": {},
   "outputs": [
    {
     "name": "stdout",
     "output_type": "stream",
     "text": [
      "('customer',)\n",
      "('products',)\n",
      "('users',)\n"
     ]
    }
   ],
   "source": [
    "mycursor.execute('drop table if exists users')\n",
    "mycursor.execute('create table users (id int auto_increment primary key, name varchar(255), fav int);')\n",
    "mycursor.execute('drop table if exists products')\n",
    "mycursor.execute('create table products (id int, name varchar(255));')\n",
    "mydb = connection()\n",
    "mycursor = mydb.cursor()\n",
    "mycursor.execute('show tables')\n",
    "for x in mycursor:\n",
    "    print(x)"
   ]
  },
  {
   "cell_type": "code",
   "execution_count": 27,
   "id": "9604042f",
   "metadata": {},
   "outputs": [],
   "source": [
    "def insertRows(sql, val=''):\n",
    "    mydb = connection()\n",
    "    mycursor = mydb.cursor()\n",
    "    if val == '':\n",
    "        mycursor.execute(sql)\n",
    "        mydb.commit()\n",
    "    else:\n",
    "        mycursor.executemany(sql, val)\n",
    "        mydb.commit()\n",
    "    print(mycursor.rowcount, 'record(s) inserted')\n",
    "        "
   ]
  },
  {
   "cell_type": "code",
   "execution_count": 28,
   "id": "f2f4b9a6",
   "metadata": {},
   "outputs": [
    {
     "name": "stdout",
     "output_type": "stream",
     "text": [
      "6 record(s) inserted\n"
     ]
    }
   ],
   "source": [
    "sql = 'insert into users (name, fav) values (%s, %s)'\n",
    "val = [\n",
    "    ('John', 154),\n",
    "    ('Peter', 154),\n",
    "    ('Amy', 155),\n",
    "    ('Hannah',156),\n",
    "    ('Michael',156),\n",
    "    ('Ashish',None)\n",
    "]\n",
    "insertRows(sql, val)"
   ]
  },
  {
   "cell_type": "code",
   "execution_count": 29,
   "id": "351435fc",
   "metadata": {},
   "outputs": [
    {
     "name": "stdout",
     "output_type": "stream",
     "text": [
      "3 record(s) inserted\n"
     ]
    }
   ],
   "source": [
    "sql = 'insert into products (id, name) values (%s, %s)'\n",
    "val = [\n",
    "    (154, 'Chocolate Heaven'),\n",
    "    (155, 'Tasty Lemons'),\n",
    "    (156, 'Vanilla Dreams'),\n",
    "]\n",
    "insertRows(sql, val)"
   ]
  },
  {
   "cell_type": "code",
   "execution_count": 30,
   "id": "762b0c9c",
   "metadata": {},
   "outputs": [
    {
     "name": "stdout",
     "output_type": "stream",
     "text": [
      "(1, 'John', 'Chocolate Heaven')\n",
      "(2, 'Peter', 'Chocolate Heaven')\n",
      "(3, 'Amy', 'Tasty Lemons')\n",
      "(4, 'Hannah', 'Vanilla Dreams')\n",
      "(5, 'Michael', 'Vanilla Dreams')\n",
      "(6, 'Ashish', None)\n"
     ]
    }
   ],
   "source": [
    "mydb = connection()\n",
    "mycursor = mydb.cursor()\n",
    "# inner join, left join, right join\n",
    "sql = 'select users.id, users.name as user, products.name as favorite from users left join products on users.fav = products.id'\n",
    "# sql = \"SELECT \\\n",
    "#   users.name AS user, \\\n",
    "#   products.name AS favorite \\\n",
    "#   FROM users \\\n",
    "#   INNER JOIN products ON users.fav = products.id\"\n",
    "mycursor.execute(sql)\n",
    "myresult = mycursor.fetchall()\n",
    "for x in myresult:\n",
    "    pprint(x)"
   ]
  }
 ],
 "metadata": {
  "kernelspec": {
   "display_name": "Python 3 (ipykernel)",
   "language": "python",
   "name": "python3"
  },
  "language_info": {
   "codemirror_mode": {
    "name": "ipython",
    "version": 3
   },
   "file_extension": ".py",
   "mimetype": "text/x-python",
   "name": "python",
   "nbconvert_exporter": "python",
   "pygments_lexer": "ipython3",
   "version": "3.9.7"
  }
 },
 "nbformat": 4,
 "nbformat_minor": 5
}
