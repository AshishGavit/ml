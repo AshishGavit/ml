{
 "cells": [
  {
   "cell_type": "code",
   "execution_count": 1,
   "id": "d734d2bb",
   "metadata": {},
   "outputs": [],
   "source": [
    "import mysql.connector\n",
    "import webbrowser"
   ]
  },
  {
   "cell_type": "markdown",
   "id": "df419e53",
   "metadata": {},
   "source": [
    "# Get mysql connection"
   ]
  },
  {
   "cell_type": "code",
   "execution_count": 2,
   "id": "9260002c",
   "metadata": {},
   "outputs": [],
   "source": [
    "def connection():\n",
    "    mydb = mysql.connector.connect(host='localhost', user='ashish', password='ashishgavit@007', database='mydatabase')\n",
    "    return mydb"
   ]
  },
  {
   "cell_type": "markdown",
   "id": "b0987f04",
   "metadata": {},
   "source": [
    "# Create a table called 'employee'"
   ]
  },
  {
   "cell_type": "code",
   "execution_count": 3,
   "id": "c5131203",
   "metadata": {},
   "outputs": [
    {
     "name": "stdout",
     "output_type": "stream",
     "text": [
      "('customer',)\n",
      "('employee',)\n",
      "('products',)\n",
      "('users',)\n"
     ]
    }
   ],
   "source": [
    "mydb = connection()\n",
    "mycursor = mydb.cursor()\n",
    "mycursor.execute('drop table if exists employee')\n",
    "mycursor.execute('create table if not exists employee (\\\n",
    "                id int(11) not null auto_increment primary key,\\\n",
    "                name varchar(150) not null,\\\n",
    "                email varchar(150) not null,\\\n",
    "                phone varchar(100) not null)')\n",
    "mycursor.execute('show tables')\n",
    "myresult = mycursor.fetchall()\n",
    "for x in myresult:\n",
    "    print(x)"
   ]
  },
  {
   "cell_type": "markdown",
   "id": "ea406820",
   "metadata": {},
   "source": [
    "# Insert into table employee"
   ]
  },
  {
   "cell_type": "code",
   "execution_count": 4,
   "id": "f6ef0bcc",
   "metadata": {},
   "outputs": [],
   "source": [
    "def insertData(sql, val=''):\n",
    "    mydb = connection()\n",
    "    mycursor = mydb.cursor()\n",
    "    if val == '':\n",
    "        mycursor.execute(sql)\n",
    "        mydb.commit()\n",
    "    else:\n",
    "        mycursor.executemany(sql, val)\n",
    "        mydb.commit()\n",
    "    print(mycursor.rowcount, 'record(s) inserted')\n",
    "    mydb.close()"
   ]
  },
  {
   "cell_type": "code",
   "execution_count": 5,
   "id": "47872681",
   "metadata": {},
   "outputs": [
    {
     "name": "stdout",
     "output_type": "stream",
     "text": [
      "4 record(s) inserted\n"
     ]
    }
   ],
   "source": [
    "sql = 'insert into employee (name, email, phone) values (%s, %s, %s)'\n",
    "val = [\n",
    "    ('John', 'john@example.com', '23232345453'),\n",
    "    ('Smith', 'smith@example.com', '9898577442'),\n",
    "    ('Priska', 'priska@example.com', '9393452387'),\n",
    "    ('Gaga', 'gaga@example.com', '8482764537')\n",
    "]\n",
    "insertData(sql, val)"
   ]
  },
  {
   "cell_type": "code",
   "execution_count": 6,
   "id": "4f9ecb0a",
   "metadata": {},
   "outputs": [],
   "source": [
    "def viewRecords(sql):\n",
    "    mydb = connection()\n",
    "    mycursor = mydb.cursor()\n",
    "    mycursor.execute(sql)\n",
    "    myresult = mycursor.fetchall()\n",
    "    return myresult"
   ]
  },
  {
   "cell_type": "code",
   "execution_count": 7,
   "id": "01b5b349",
   "metadata": {},
   "outputs": [
    {
     "name": "stdout",
     "output_type": "stream",
     "text": [
      "(1, 'John', 'john@example.com', '23232345453')\n",
      "(2, 'Smith', 'smith@example.com', '9898577442')\n",
      "(3, 'Priska', 'priska@example.com', '9393452387')\n",
      "(4, 'Gaga', 'gaga@example.com', '8482764537')\n"
     ]
    }
   ],
   "source": [
    "sql = 'select * from employee'\n",
    "myresult = viewRecords(sql)\n",
    "for x in myresult:\n",
    "    print(x)"
   ]
  },
  {
   "cell_type": "markdown",
   "id": "08473508",
   "metadata": {},
   "source": [
    "# Display on a web browser"
   ]
  },
  {
   "cell_type": "code",
   "execution_count": 8,
   "id": "d3e20849",
   "metadata": {},
   "outputs": [
    {
     "ename": "NameError",
     "evalue": "name 'myursor' is not defined",
     "output_type": "error",
     "traceback": [
      "\u001b[1;31m----------------------------------------------------------------------\u001b[0m",
      "\u001b[1;31mNameError\u001b[0m                            Traceback (most recent call last)",
      "\u001b[1;32m~\\AppData\\Local\\Temp/ipykernel_6988/2745176078.py\u001b[0m in \u001b[0;36m<module>\u001b[1;34m\u001b[0m\n\u001b[0;32m     35\u001b[0m \u001b[1;33m\u001b[0m\u001b[0m\n\u001b[0;32m     36\u001b[0m \u001b[1;32mif\u001b[0m\u001b[1;33m(\u001b[0m\u001b[0mmydb\u001b[0m\u001b[1;33m.\u001b[0m\u001b[0mis_connected\u001b[0m\u001b[1;33m(\u001b[0m\u001b[1;33m)\u001b[0m\u001b[1;33m)\u001b[0m\u001b[1;33m:\u001b[0m\u001b[1;33m\u001b[0m\u001b[1;33m\u001b[0m\u001b[0m\n\u001b[1;32m---> 37\u001b[1;33m     \u001b[0mmyursor\u001b[0m\u001b[1;33m.\u001b[0m\u001b[0mclose\u001b[0m\u001b[1;33m(\u001b[0m\u001b[1;33m)\u001b[0m\u001b[1;33m\u001b[0m\u001b[1;33m\u001b[0m\u001b[0m\n\u001b[0m\u001b[0;32m     38\u001b[0m     \u001b[0mmydb\u001b[0m\u001b[1;33m.\u001b[0m\u001b[0mclose\u001b[0m\u001b[1;33m(\u001b[0m\u001b[1;33m)\u001b[0m\u001b[1;33m\u001b[0m\u001b[1;33m\u001b[0m\u001b[0m\n\u001b[0;32m     39\u001b[0m     \u001b[0mprint\u001b[0m\u001b[1;33m(\u001b[0m\u001b[1;34m\"MySQL connection is closed.\"\u001b[0m\u001b[1;33m)\u001b[0m\u001b[1;33m\u001b[0m\u001b[1;33m\u001b[0m\u001b[0m\n",
      "\u001b[1;31mNameError\u001b[0m: name 'myursor' is not defined"
     ]
    }
   ],
   "source": [
    "p = []\n",
    "tbl = '<tr><th>ID</th><th>Name</th><th>Email</th><th>Phone</th></tr>'\n",
    "p.append(tbl)\n",
    "sql = 'select * from employee'\n",
    "myresult = viewRecords(sql)\n",
    "for row in myresult:\n",
    "    p.append('<tr>')\n",
    "    for r in row:\n",
    "        data = \"<td>%s</td>\"%str(r)\n",
    "        p.append(data)\n",
    "    p.append('</tr>')\n",
    "contents = \"\"\"<!DOCTYPE html PUBLIC \"-//W3C//DTD HTML 4.01 Transitional//EN\">\n",
    "        <html>\n",
    "        <head>\n",
    "        <meta content=\"text/html; charset=ISO-8859-1\"\n",
    "        http-equiv=\"content-type\">\n",
    "        <title>Python Webbrowser</title>\n",
    "        </head>\n",
    "        <body>\n",
    "        <table>\n",
    "        %s\n",
    "        </table>\n",
    "        </body>\n",
    "        </html>\n",
    "    \"\"\"%(p)\n",
    "filename = 'webbrowser.html'\n",
    "\n",
    "def main(contents, filename):\n",
    "    output = open(filename,\"w\")\n",
    "    output.write(contents)\n",
    "    output.close()\n",
    "\n",
    "main(contents, filename)    \n",
    "webbrowser.open(filename)\n",
    "\n",
    "if(mydb.is_connected()):\n",
    "    mycrsor.close()\n",
    "    mydb.close()\n",
    "    print(\"MySQL connection is closed.\")    "
   ]
  },
  {
   "cell_type": "code",
   "execution_count": null,
   "id": "b2349a59",
   "metadata": {},
   "outputs": [],
   "source": []
  }
 ],
 "metadata": {
  "kernelspec": {
   "display_name": "Python 3 (ipykernel)",
   "language": "python",
   "name": "python3"
  },
  "language_info": {
   "codemirror_mode": {
    "name": "ipython",
    "version": 3
   },
   "file_extension": ".py",
   "mimetype": "text/x-python",
   "name": "python",
   "nbconvert_exporter": "python",
   "pygments_lexer": "ipython3",
   "version": "3.9.7"
  }
 },
 "nbformat": 4,
 "nbformat_minor": 5
}
